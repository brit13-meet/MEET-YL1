{
 "metadata": {
  "name": ""
 },
 "nbformat": 3,
 "nbformat_minor": 0,
 "worksheets": [
  {
   "cells": [
    {
     "cell_type": "code",
     "collapsed": false,
     "input": [
      "import csv"
     ],
     "language": "python",
     "metadata": {},
     "outputs": []
    },
    {
     "cell_type": "code",
     "collapsed": false,
     "input": [
      "s = open(melanoma, csv)\n",
      "reader = csv.reader(s)\n",
      "rownum = 0\n",
      "years = [1936, 1937, 1938, 1939, 1940, 1941, 1941, 1942, 1943, 1945, 1946, 1947, 1948, 1948, 1949, 1950, 1951, 1952, 1953, 1954, 1955, 1956, 1957, 1958, 1959, 1960, 1961, 1962, 1963, 1964, 1965, 1966, 1967, 1968, 1969, 1970, 1971, 1972]\n",
      "incidence = [.9, .8, 1.3, 1.4, 1.2, 1.7, 1.8, 1.6, 1.5, 1.5, 2, 2.5, 2.7, 2.9, 2.5, 3.1, 2.4, 2.2, 2.9, 2.5, 2.6, 3.2, 3.8, 4.2, 3.9, 3.7, 3.3, 3.7, 3.9, 4.1, 3.8, 4.7, 4.4, 4.8, 4.8, 4.8]\n"
     ],
     "language": "python",
     "metadata": {},
     "outputs": [
      {
       "ename": "NameError",
       "evalue": "name 'melanoma' is not defined",
       "output_type": "pyerr",
       "traceback": [
        "\u001b[1;31m---------------------------------------------------------------------------\u001b[0m\n\u001b[1;31mNameError\u001b[0m                                 Traceback (most recent call last)",
        "\u001b[1;32m<ipython-input-4-59b4381ec47f>\u001b[0m in \u001b[0;36m<module>\u001b[1;34m()\u001b[0m\n\u001b[1;32m----> 1\u001b[1;33m \u001b[0ms\u001b[0m \u001b[1;33m=\u001b[0m \u001b[0mopen\u001b[0m\u001b[1;33m(\u001b[0m\u001b[0mmelanoma\u001b[0m\u001b[1;33m,\u001b[0m \u001b[0mcsv\u001b[0m\u001b[1;33m)\u001b[0m\u001b[1;33m\u001b[0m\u001b[0m\n\u001b[0m\u001b[0;32m      2\u001b[0m \u001b[0mreader\u001b[0m \u001b[1;33m=\u001b[0m \u001b[0mcsv\u001b[0m\u001b[1;33m.\u001b[0m\u001b[0mreader\u001b[0m\u001b[1;33m(\u001b[0m\u001b[0ms\u001b[0m\u001b[1;33m)\u001b[0m\u001b[1;33m\u001b[0m\u001b[0m\n\u001b[0;32m      3\u001b[0m \u001b[0mrownum\u001b[0m \u001b[1;33m=\u001b[0m \u001b[1;36m0\u001b[0m\u001b[1;33m\u001b[0m\u001b[0m\n\u001b[0;32m      4\u001b[0m \u001b[0myears\u001b[0m \u001b[1;33m=\u001b[0m \u001b[1;33m[\u001b[0m\u001b[1;36m1936\u001b[0m\u001b[1;33m,\u001b[0m \u001b[1;36m1937\u001b[0m\u001b[1;33m,\u001b[0m \u001b[1;36m1938\u001b[0m\u001b[1;33m,\u001b[0m \u001b[1;36m1939\u001b[0m\u001b[1;33m,\u001b[0m \u001b[1;36m1940\u001b[0m\u001b[1;33m,\u001b[0m \u001b[1;36m1941\u001b[0m\u001b[1;33m,\u001b[0m \u001b[1;36m1941\u001b[0m\u001b[1;33m,\u001b[0m \u001b[1;36m1942\u001b[0m\u001b[1;33m,\u001b[0m \u001b[1;36m1943\u001b[0m\u001b[1;33m,\u001b[0m \u001b[1;36m1945\u001b[0m\u001b[1;33m,\u001b[0m \u001b[1;36m1946\u001b[0m\u001b[1;33m,\u001b[0m \u001b[1;36m1947\u001b[0m\u001b[1;33m,\u001b[0m \u001b[1;36m1948\u001b[0m\u001b[1;33m,\u001b[0m \u001b[1;36m1948\u001b[0m\u001b[1;33m,\u001b[0m \u001b[1;36m1949\u001b[0m\u001b[1;33m,\u001b[0m \u001b[1;36m1950\u001b[0m\u001b[1;33m,\u001b[0m \u001b[1;36m1951\u001b[0m\u001b[1;33m,\u001b[0m \u001b[1;36m1952\u001b[0m\u001b[1;33m,\u001b[0m \u001b[1;36m1953\u001b[0m\u001b[1;33m,\u001b[0m \u001b[1;36m1954\u001b[0m\u001b[1;33m,\u001b[0m \u001b[1;36m1955\u001b[0m\u001b[1;33m,\u001b[0m \u001b[1;36m1956\u001b[0m\u001b[1;33m,\u001b[0m \u001b[1;36m1957\u001b[0m\u001b[1;33m,\u001b[0m \u001b[1;36m1958\u001b[0m\u001b[1;33m,\u001b[0m \u001b[1;36m1959\u001b[0m\u001b[1;33m,\u001b[0m \u001b[1;36m1960\u001b[0m\u001b[1;33m,\u001b[0m \u001b[1;36m1961\u001b[0m\u001b[1;33m,\u001b[0m \u001b[1;36m1962\u001b[0m\u001b[1;33m,\u001b[0m \u001b[1;36m1963\u001b[0m\u001b[1;33m,\u001b[0m \u001b[1;36m1964\u001b[0m\u001b[1;33m,\u001b[0m \u001b[1;36m1965\u001b[0m\u001b[1;33m,\u001b[0m \u001b[1;36m1966\u001b[0m\u001b[1;33m,\u001b[0m \u001b[1;36m1967\u001b[0m\u001b[1;33m,\u001b[0m \u001b[1;36m1968\u001b[0m\u001b[1;33m,\u001b[0m \u001b[1;36m1969\u001b[0m\u001b[1;33m,\u001b[0m \u001b[1;36m1970\u001b[0m\u001b[1;33m,\u001b[0m \u001b[1;36m1971\u001b[0m\u001b[1;33m,\u001b[0m \u001b[1;36m1972\u001b[0m\u001b[1;33m]\u001b[0m\u001b[1;33m\u001b[0m\u001b[0m\n\u001b[0;32m      5\u001b[0m \u001b[0mincidence\u001b[0m \u001b[1;33m=\u001b[0m \u001b[1;33m[\u001b[0m\u001b[1;36m.9\u001b[0m\u001b[1;33m,\u001b[0m \u001b[1;36m.8\u001b[0m\u001b[1;33m,\u001b[0m \u001b[1;36m1.3\u001b[0m\u001b[1;33m,\u001b[0m \u001b[1;36m1.4\u001b[0m\u001b[1;33m,\u001b[0m \u001b[1;36m1.2\u001b[0m\u001b[1;33m,\u001b[0m \u001b[1;36m1.7\u001b[0m\u001b[1;33m,\u001b[0m \u001b[1;36m1.8\u001b[0m\u001b[1;33m,\u001b[0m \u001b[1;36m1.6\u001b[0m\u001b[1;33m,\u001b[0m \u001b[1;36m1.5\u001b[0m\u001b[1;33m,\u001b[0m \u001b[1;36m1.5\u001b[0m\u001b[1;33m,\u001b[0m \u001b[1;36m2\u001b[0m\u001b[1;33m,\u001b[0m \u001b[1;36m2.5\u001b[0m\u001b[1;33m,\u001b[0m \u001b[1;36m2.7\u001b[0m\u001b[1;33m,\u001b[0m \u001b[1;36m2.9\u001b[0m\u001b[1;33m,\u001b[0m \u001b[1;36m2.5\u001b[0m\u001b[1;33m,\u001b[0m \u001b[1;36m3.1\u001b[0m\u001b[1;33m,\u001b[0m \u001b[1;36m2.4\u001b[0m\u001b[1;33m,\u001b[0m \u001b[1;36m2.2\u001b[0m\u001b[1;33m,\u001b[0m \u001b[1;36m2.9\u001b[0m\u001b[1;33m,\u001b[0m \u001b[1;36m2.5\u001b[0m\u001b[1;33m,\u001b[0m \u001b[1;36m2.6\u001b[0m\u001b[1;33m,\u001b[0m \u001b[1;36m3.2\u001b[0m\u001b[1;33m,\u001b[0m \u001b[1;36m3.8\u001b[0m\u001b[1;33m,\u001b[0m \u001b[1;36m4.2\u001b[0m\u001b[1;33m,\u001b[0m \u001b[1;36m3.9\u001b[0m\u001b[1;33m,\u001b[0m \u001b[1;36m3.7\u001b[0m\u001b[1;33m,\u001b[0m \u001b[1;36m3.3\u001b[0m\u001b[1;33m,\u001b[0m \u001b[1;36m3.7\u001b[0m\u001b[1;33m,\u001b[0m \u001b[1;36m3.9\u001b[0m\u001b[1;33m,\u001b[0m \u001b[1;36m4.1\u001b[0m\u001b[1;33m,\u001b[0m \u001b[1;36m3.8\u001b[0m\u001b[1;33m,\u001b[0m \u001b[1;36m4.7\u001b[0m\u001b[1;33m,\u001b[0m \u001b[1;36m4.4\u001b[0m\u001b[1;33m,\u001b[0m \u001b[1;36m4.8\u001b[0m\u001b[1;33m,\u001b[0m \u001b[1;36m4.8\u001b[0m\u001b[1;33m,\u001b[0m \u001b[1;36m4.8\u001b[0m\u001b[1;33m]\u001b[0m\u001b[1;33m\u001b[0m\u001b[0m\n",
        "\u001b[1;31mNameError\u001b[0m: name 'melanoma' is not defined"
       ]
      }
     ],
     "prompt_number": 4
    },
    {
     "cell_type": "code",
     "collapsed": false,
     "input": [
      "from pylab import *"
     ],
     "language": "python",
     "metadata": {},
     "outputs": [],
     "prompt_number": 5
    },
    {
     "cell_type": "code",
     "collapsed": false,
     "input": [
      "plot(incidence, years)"
     ],
     "language": "python",
     "metadata": {},
     "outputs": [
      {
       "ename": "NameError",
       "evalue": "name 'incidence' is not defined",
       "output_type": "pyerr",
       "traceback": [
        "\u001b[1;31m---------------------------------------------------------------------------\u001b[0m\n\u001b[1;31mNameError\u001b[0m                                 Traceback (most recent call last)",
        "\u001b[1;32m<ipython-input-6-cc6a38a47fe1>\u001b[0m in \u001b[0;36m<module>\u001b[1;34m()\u001b[0m\n\u001b[1;32m----> 1\u001b[1;33m \u001b[0mplot\u001b[0m\u001b[1;33m(\u001b[0m\u001b[0mincidence\u001b[0m\u001b[1;33m,\u001b[0m \u001b[0myears\u001b[0m\u001b[1;33m)\u001b[0m\u001b[1;33m\u001b[0m\u001b[0m\n\u001b[0m",
        "\u001b[1;31mNameError\u001b[0m: name 'incidence' is not defined"
       ]
      }
     ],
     "prompt_number": 6
    },
    {
     "cell_type": "code",
     "collapsed": false,
     "input": [],
     "language": "python",
     "metadata": {},
     "outputs": [],
     "prompt_number": 6
    },
    {
     "cell_type": "code",
     "collapsed": false,
     "input": [],
     "language": "python",
     "metadata": {},
     "outputs": []
    }
   ],
   "metadata": {}
  }
 ]
}