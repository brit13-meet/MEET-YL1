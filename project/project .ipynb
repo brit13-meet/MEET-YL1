{
 "metadata": {
  "name": ""
 },
 "nbformat": 3,
 "nbformat_minor": 0,
 "worksheets": [
  {
   "cells": [
    {
     "cell_type": "code",
     "collapsed": false,
     "input": [
      "import csv"
     ],
     "language": "python",
     "metadata": {},
     "outputs": [],
     "prompt_number": 1
    },
    {
     "cell_type": "code",
     "collapsed": false,
     "input": [
      "s = open('melanoma.csv', 'rb')\n",
      "reader = csv.reader(s)\n",
      "rownum = 0\n",
      "years = []\n",
      "incidence = []\n",
      "for row in reader:\n",
      "    if rownum == 0:\n",
      "        header = row\n",
      "    else:\n",
      "       \n",
      "        \n",
      "#         r = map(int, row[0].split())\n",
      "#         print r\n",
      "        years.append(int(row[0]))\n",
      "        incidence.append(float(row[1])) \n",
      "\n",
      "        \n",
      "#       years.append(r[1])\n",
      "#         incidence.append(r[2])\n",
      "    rownum += 1\n",
      "    \n",
      "print years\n",
      "print incidence\n",
      "       \n",
      "s.close()\n"
     ],
     "language": "python",
     "metadata": {},
     "outputs": [
      {
       "output_type": "stream",
       "stream": "stdout",
       "text": [
        "[1936, 1937, 1938, 1939, 1940, 1941, 1942, 1943, 1944, 1945, 1946, 1947, 1948, 1949, 1950, 1951, 1952, 1953, 1954, 1955, 1956, 1957, 1958, 1959, 1960, 1961, 1962, 1963, 1964, 1965, 1966, 1967, 1968, 1969, 1970, 1971, 1972]\n",
        "[0.9, 0.8, 0.8, 1.3, 1.4, 1.2, 1.7, 1.8, 1.6, 1.5, 1.5, 2.0, 2.5, 2.7, 2.9, 2.5, 3.1, 2.4, 2.2, 2.9, 2.5, 2.6, 3.2, 3.8, 4.2, 3.9, 3.7, 3.3, 3.7, 3.9, 4.1, 3.8, 4.7, 4.4, 4.8, 4.8, 4.8]\n"
       ]
      }
     ],
     "prompt_number": 6
    },
    {
     "cell_type": "code",
     "collapsed": false,
     "input": [
      "from pylab import *"
     ],
     "language": "python",
     "metadata": {},
     "outputs": [],
     "prompt_number": 32
    },
    {
     "cell_type": "code",
     "collapsed": false,
     "input": [
      "fig = plt.figure()\n",
      "ax = fig.add_subplot(111)\n",
      "ax.set_title('melanoma')\n",
      "ax.set_xlabel('years')\n",
      "ax.set_ylabel('incidence')\n",
      "ax.plot(years, incidence)"
     ],
     "language": "python",
     "metadata": {},
     "outputs": [
      {
       "metadata": {},
       "output_type": "pyout",
       "prompt_number": 12,
       "text": [
        "[<matplotlib.lines.Line2D at 0xb2ef2cc>]"
       ]
      },
      {
       "metadata": {},
       "output_type": "display_data",
       "png": "[encoded data removed]",
       "text": [
        "<matplotlib.figure.Figure at 0xb0d0a6c>"
       ]
      }
     ],
     "prompt_number": 12
    },
    {
     "cell_type": "markdown",
     "metadata": {},
     "source": [
      "The graph shows us that over the years the amount of cancer incidences is higher."
     ]
    }
   ],
   "metadata": {}
  }
 ]
}